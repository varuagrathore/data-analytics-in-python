{
 "cells": [
  {
   "cell_type": "code",
   "execution_count": 1,
   "id": "c948b568",
   "metadata": {},
   "outputs": [],
   "source": [
    "import pandas as pd"
   ]
  },
  {
   "cell_type": "code",
   "execution_count": 2,
   "id": "019403ef",
   "metadata": {},
   "outputs": [],
   "source": [
    "series={\n",
    "    'index':[0,1,2,3],\n",
    "    'Data':[142,145,123,101],\n",
    "    'name':'gsr'\n",
    "    }"
   ]
  },
  {
   "cell_type": "code",
   "execution_count": 3,
   "id": "7c99339b",
   "metadata": {},
   "outputs": [
    {
     "data": {
      "text/plain": [
       "145"
      ]
     },
     "execution_count": 3,
     "metadata": {},
     "output_type": "execute_result"
    }
   ],
   "source": [
    "def get(series,idx):\n",
    "    value_idx=series['index'].index(idx)\n",
    "    return series['Data'][value_idx]\n",
    "get(series,1)"
   ]
  },
  {
   "cell_type": "code",
   "execution_count": 4,
   "id": "cdb3d4e6",
   "metadata": {},
   "outputs": [],
   "source": [
    "#we can do this in different way also \n",
    "data=[142,145,123,101]\n",
    "my_series=pd.Series(data)"
   ]
  },
  {
   "cell_type": "code",
   "execution_count": 5,
   "id": "1852f0a6",
   "metadata": {},
   "outputs": [
    {
     "name": "stdout",
     "output_type": "stream",
     "text": [
      "145\n"
     ]
    }
   ],
   "source": [
    "#Access the second elements\n",
    "print(my_series[1])"
   ]
  },
  {
   "cell_type": "code",
   "execution_count": 6,
   "id": "1b776ce4",
   "metadata": {},
   "outputs": [
    {
     "data": {
      "text/plain": [
       "0    152\n",
       "1    155\n",
       "2    133\n",
       "3    111\n",
       "dtype: int64"
      ]
     },
     "execution_count": 6,
     "metadata": {},
     "output_type": "execute_result"
    }
   ],
   "source": [
    "gsr=my_series+10\n",
    "gsr"
   ]
  },
  {
   "cell_type": "code",
   "execution_count": 7,
   "id": "3b58a08d",
   "metadata": {},
   "outputs": [
    {
     "name": "stdout",
     "output_type": "stream",
     "text": [
      "1    145\n",
      "2    123\n",
      "3    101\n",
      "dtype: int64\n"
     ]
    }
   ],
   "source": [
    "#Access the range of elements\n",
    "print(my_series[1:4])"
   ]
  },
  {
   "cell_type": "code",
   "execution_count": 8,
   "id": "f88fbe33",
   "metadata": {},
   "outputs": [],
   "source": [
    "songs={\n",
    "    'index':['paul','john','george','ringo'],\n",
    "    'data':[145,142,143,146],\n",
    "    'name':'count'\n",
    "    \n",
    "}"
   ]
  },
  {
   "cell_type": "code",
   "execution_count": 9,
   "id": "e019b0af",
   "metadata": {},
   "outputs": [
    {
     "data": {
      "text/plain": [
       "145"
      ]
     },
     "execution_count": 9,
     "metadata": {},
     "output_type": "execute_result"
    }
   ],
   "source": [
    "def get(series,idx):\n",
    "    value_idx=series['index'].index(idx)\n",
    "    return series['data'][value_idx]\n",
    "get(songs,'paul')\n"
   ]
  },
  {
   "cell_type": "code",
   "execution_count": 10,
   "id": "2b427301",
   "metadata": {},
   "outputs": [],
   "source": [
    "songs2=pd.Series([1,2,3,4],\n",
    "       name='counts',\n",
    "    index=['john','paul','george','ringo']\n",
    "                )"
   ]
  },
  {
   "cell_type": "code",
   "execution_count": 11,
   "id": "f8c6d7db",
   "metadata": {},
   "outputs": [
    {
     "data": {
      "text/plain": [
       "john      1\n",
       "paul      2\n",
       "george    3\n",
       "ringo     4\n",
       "Name: counts, dtype: int64"
      ]
     },
     "execution_count": 11,
     "metadata": {},
     "output_type": "execute_result"
    }
   ],
   "source": [
    "songs2"
   ]
  },
  {
   "cell_type": "markdown",
   "id": "0190c3b3",
   "metadata": {},
   "source": [
    "Note that the dtype that we see when we print a Series is the type of the values, not the\n",
    "index"
   ]
  },
  {
   "cell_type": "code",
   "execution_count": 12,
   "id": "c645b5d1",
   "metadata": {},
   "outputs": [
    {
     "data": {
      "text/plain": [
       "Index(['john', 'paul', 'george', 'ringo'], dtype='object')"
      ]
     },
     "execution_count": 12,
     "metadata": {},
     "output_type": "execute_result"
    }
   ],
   "source": [
    "songs2 . index\n"
   ]
  },
  {
   "cell_type": "markdown",
   "id": "f10efc16",
   "metadata": {},
   "source": [
    "when we inspect index attribute we see that the dtype is object "
   ]
  },
  {
   "cell_type": "code",
   "execution_count": 13,
   "id": "be37f599",
   "metadata": {},
   "outputs": [],
   "source": [
    "name={\n",
    "    'first':['george','paul','anna','avi'],\n",
    "    'last':['lamma','christ','lame','naka'],\n",
    "    'email':['lamma@gmail.com','christ@gmail.com','lame@gmail.com','naka@gmail.com']\n",
    "}"
   ]
  },
  {
   "cell_type": "code",
   "execution_count": 14,
   "id": "350f441e",
   "metadata": {},
   "outputs": [
    {
     "data": {
      "text/plain": [
       "['lamma@gmail.com', 'christ@gmail.com', 'lame@gmail.com', 'naka@gmail.com']"
      ]
     },
     "execution_count": 14,
     "metadata": {},
     "output_type": "execute_result"
    }
   ],
   "source": [
    "name['email']"
   ]
  },
  {
   "cell_type": "code",
   "execution_count": 15,
   "id": "0f364dc4",
   "metadata": {},
   "outputs": [
    {
     "data": {
      "text/plain": [
       "list"
      ]
     },
     "execution_count": 15,
     "metadata": {},
     "output_type": "execute_result"
    }
   ],
   "source": [
    "type(name['email'])"
   ]
  },
  {
   "cell_type": "code",
   "execution_count": 16,
   "id": "8af5581d",
   "metadata": {},
   "outputs": [],
   "source": [
    "import pandas as pd"
   ]
  },
  {
   "cell_type": "code",
   "execution_count": 17,
   "id": "52bb2709",
   "metadata": {},
   "outputs": [],
   "source": [
    "df=pd.DataFrame(name)"
   ]
  },
  {
   "cell_type": "code",
   "execution_count": 18,
   "id": "bb397cac",
   "metadata": {},
   "outputs": [
    {
     "data": {
      "text/html": [
       "<div>\n",
       "<style scoped>\n",
       "    .dataframe tbody tr th:only-of-type {\n",
       "        vertical-align: middle;\n",
       "    }\n",
       "\n",
       "    .dataframe tbody tr th {\n",
       "        vertical-align: top;\n",
       "    }\n",
       "\n",
       "    .dataframe thead th {\n",
       "        text-align: right;\n",
       "    }\n",
       "</style>\n",
       "<table border=\"1\" class=\"dataframe\">\n",
       "  <thead>\n",
       "    <tr style=\"text-align: right;\">\n",
       "      <th></th>\n",
       "      <th>first</th>\n",
       "      <th>last</th>\n",
       "      <th>email</th>\n",
       "    </tr>\n",
       "  </thead>\n",
       "  <tbody>\n",
       "    <tr>\n",
       "      <th>0</th>\n",
       "      <td>george</td>\n",
       "      <td>lamma</td>\n",
       "      <td>lamma@gmail.com</td>\n",
       "    </tr>\n",
       "    <tr>\n",
       "      <th>1</th>\n",
       "      <td>paul</td>\n",
       "      <td>christ</td>\n",
       "      <td>christ@gmail.com</td>\n",
       "    </tr>\n",
       "    <tr>\n",
       "      <th>2</th>\n",
       "      <td>anna</td>\n",
       "      <td>lame</td>\n",
       "      <td>lame@gmail.com</td>\n",
       "    </tr>\n",
       "    <tr>\n",
       "      <th>3</th>\n",
       "      <td>avi</td>\n",
       "      <td>naka</td>\n",
       "      <td>naka@gmail.com</td>\n",
       "    </tr>\n",
       "  </tbody>\n",
       "</table>\n",
       "</div>"
      ],
      "text/plain": [
       "    first    last             email\n",
       "0  george   lamma   lamma@gmail.com\n",
       "1    paul  christ  christ@gmail.com\n",
       "2    anna    lame    lame@gmail.com\n",
       "3     avi    naka    naka@gmail.com"
      ]
     },
     "execution_count": 18,
     "metadata": {},
     "output_type": "execute_result"
    }
   ],
   "source": [
    "df"
   ]
  },
  {
   "cell_type": "markdown",
   "id": "697551f5",
   "metadata": {},
   "source": [
    "\"This DataFrame is two-dimensional, consisting of rows and columns, and the 'name' field is stored as a dictionary"
   ]
  },
  {
   "cell_type": "code",
   "execution_count": 19,
   "id": "9d5bd7a8",
   "metadata": {},
   "outputs": [
    {
     "data": {
      "text/plain": [
       "pandas.core.frame.DataFrame"
      ]
     },
     "execution_count": 19,
     "metadata": {},
     "output_type": "execute_result"
    }
   ],
   "source": [
    "type(df)"
   ]
  },
  {
   "cell_type": "code",
   "execution_count": 20,
   "id": "15ebf864",
   "metadata": {},
   "outputs": [
    {
     "data": {
      "text/plain": [
       "0     lamma@gmail.com\n",
       "1    christ@gmail.com\n",
       "2      lame@gmail.com\n",
       "3      naka@gmail.com\n",
       "Name: email, dtype: object"
      ]
     },
     "execution_count": 20,
     "metadata": {},
     "output_type": "execute_result"
    }
   ],
   "source": [
    "df['email']"
   ]
  },
  {
   "cell_type": "markdown",
   "id": "86d9028e",
   "metadata": {},
   "source": [
    "When comparing the results from the email to the previous set, it's important to note that the email results form a series. Additionally, the numbers 0, 1, 2, and 3 are used to represent axes and should not be considered as separate columns.\""
   ]
  },
  {
   "cell_type": "code",
   "execution_count": 21,
   "id": "39788add",
   "metadata": {},
   "outputs": [
    {
     "data": {
      "text/plain": [
       "0     lamma@gmail.com\n",
       "1    christ@gmail.com\n",
       "2      lame@gmail.com\n",
       "3      naka@gmail.com\n",
       "Name: email, dtype: object"
      ]
     },
     "execution_count": 21,
     "metadata": {},
     "output_type": "execute_result"
    }
   ],
   "source": [
    "df.email\n"
   ]
  },
  {
   "cell_type": "markdown",
   "id": "69561856",
   "metadata": {},
   "source": [
    "to ensure compatibility and readability, it's often safer to use df['column_name'].\n",
    " if your column names are simple and do not contain spaces or special characters, you can use df.column_name\n",
    " \n",
    "but it's is totally user choice he might use any one of them"
   ]
  },
  {
   "cell_type": "code",
   "execution_count": 22,
   "id": "1352819c",
   "metadata": {},
   "outputs": [
    {
     "data": {
      "text/plain": [
       "pandas.core.series.Series"
      ]
     },
     "execution_count": 22,
     "metadata": {},
     "output_type": "execute_result"
    }
   ],
   "source": [
    "type(df['email'])"
   ]
  },
  {
   "cell_type": "markdown",
   "id": "bb6985d8",
   "metadata": {},
   "source": [
    "\"A 'data frame' is a 2-dimensional container for multiple series objects\""
   ]
  },
  {
   "cell_type": "code",
   "execution_count": 23,
   "id": "f62eee99",
   "metadata": {},
   "outputs": [
    {
     "data": {
      "text/html": [
       "<div>\n",
       "<style scoped>\n",
       "    .dataframe tbody tr th:only-of-type {\n",
       "        vertical-align: middle;\n",
       "    }\n",
       "\n",
       "    .dataframe tbody tr th {\n",
       "        vertical-align: top;\n",
       "    }\n",
       "\n",
       "    .dataframe thead th {\n",
       "        text-align: right;\n",
       "    }\n",
       "</style>\n",
       "<table border=\"1\" class=\"dataframe\">\n",
       "  <thead>\n",
       "    <tr style=\"text-align: right;\">\n",
       "      <th></th>\n",
       "      <th>last</th>\n",
       "      <th>email</th>\n",
       "    </tr>\n",
       "  </thead>\n",
       "  <tbody>\n",
       "    <tr>\n",
       "      <th>0</th>\n",
       "      <td>lamma</td>\n",
       "      <td>lamma@gmail.com</td>\n",
       "    </tr>\n",
       "    <tr>\n",
       "      <th>1</th>\n",
       "      <td>christ</td>\n",
       "      <td>christ@gmail.com</td>\n",
       "    </tr>\n",
       "    <tr>\n",
       "      <th>2</th>\n",
       "      <td>lame</td>\n",
       "      <td>lame@gmail.com</td>\n",
       "    </tr>\n",
       "    <tr>\n",
       "      <th>3</th>\n",
       "      <td>naka</td>\n",
       "      <td>naka@gmail.com</td>\n",
       "    </tr>\n",
       "  </tbody>\n",
       "</table>\n",
       "</div>"
      ],
      "text/plain": [
       "     last             email\n",
       "0   lamma   lamma@gmail.com\n",
       "1  christ  christ@gmail.com\n",
       "2    lame    lame@gmail.com\n",
       "3    naka    naka@gmail.com"
      ]
     },
     "execution_count": 23,
     "metadata": {},
     "output_type": "execute_result"
    }
   ],
   "source": [
    "df[['last','email']]"
   ]
  },
  {
   "cell_type": "markdown",
   "id": "7076e2e9",
   "metadata": {},
   "source": [
    "The double brackets are required to distinguish between the selection of multiple columns, as opposed to a single column. By using the inner brackets to create a list of column names, you can select multiple columns simultaneously. If you were selecting a single column, you could omit the inner brackets and write, for example, df['last'] to select the 'last' column"
   ]
  },
  {
   "cell_type": "code",
   "execution_count": 24,
   "id": "0ce607b8",
   "metadata": {},
   "outputs": [
    {
     "data": {
      "text/plain": [
       "Index(['first', 'last', 'email'], dtype='object')"
      ]
     },
     "execution_count": 24,
     "metadata": {},
     "output_type": "execute_result"
    }
   ],
   "source": [
    "df.columns\n"
   ]
  },
  {
   "cell_type": "code",
   "execution_count": 25,
   "id": "7a35209f",
   "metadata": {},
   "outputs": [
    {
     "data": {
      "text/html": [
       "<div>\n",
       "<style scoped>\n",
       "    .dataframe tbody tr th:only-of-type {\n",
       "        vertical-align: middle;\n",
       "    }\n",
       "\n",
       "    .dataframe tbody tr th {\n",
       "        vertical-align: top;\n",
       "    }\n",
       "\n",
       "    .dataframe thead th {\n",
       "        text-align: right;\n",
       "    }\n",
       "</style>\n",
       "<table border=\"1\" class=\"dataframe\">\n",
       "  <thead>\n",
       "    <tr style=\"text-align: right;\">\n",
       "      <th></th>\n",
       "      <th>first</th>\n",
       "      <th>last</th>\n",
       "      <th>email</th>\n",
       "    </tr>\n",
       "  </thead>\n",
       "  <tbody>\n",
       "    <tr>\n",
       "      <th>0</th>\n",
       "      <td>george</td>\n",
       "      <td>lamma</td>\n",
       "      <td>lamma@gmail.com</td>\n",
       "    </tr>\n",
       "    <tr>\n",
       "      <th>1</th>\n",
       "      <td>paul</td>\n",
       "      <td>christ</td>\n",
       "      <td>christ@gmail.com</td>\n",
       "    </tr>\n",
       "  </tbody>\n",
       "</table>\n",
       "</div>"
      ],
      "text/plain": [
       "    first    last             email\n",
       "0  george   lamma   lamma@gmail.com\n",
       "1    paul  christ  christ@gmail.com"
      ]
     },
     "execution_count": 25,
     "metadata": {},
     "output_type": "execute_result"
    }
   ],
   "source": [
    "df.iloc[[0,1]]"
   ]
  },
  {
   "cell_type": "markdown",
   "id": "a3c4d42d",
   "metadata": {},
   "source": [
    "Use loc when you want to select data based on label names and when you need to include both the start and stop indices.\n",
    "\n",
    "Use iloc when you want to select data based on integer positions and when you want to exclude the stop index (exclusive)."
   ]
  },
  {
   "cell_type": "code",
   "execution_count": 26,
   "id": "e323a1ef",
   "metadata": {},
   "outputs": [
    {
     "data": {
      "text/plain": [
       "0     lamma@gmail.com\n",
       "1    christ@gmail.com\n",
       "Name: email, dtype: object"
      ]
     },
     "execution_count": 26,
     "metadata": {},
     "output_type": "execute_result"
    }
   ],
   "source": [
    "df.iloc[[0,1],2]"
   ]
  },
  {
   "cell_type": "code",
   "execution_count": 27,
   "id": "1ba3f713",
   "metadata": {},
   "outputs": [
    {
     "data": {
      "text/plain": [
       "first             george\n",
       "last               lamma\n",
       "email    lamma@gmail.com\n",
       "Name: 0, dtype: object"
      ]
     },
     "execution_count": 27,
     "metadata": {},
     "output_type": "execute_result"
    }
   ],
   "source": [
    "df.loc[0]"
   ]
  },
  {
   "cell_type": "code",
   "execution_count": 28,
   "id": "54bd6ecd",
   "metadata": {},
   "outputs": [
    {
     "data": {
      "text/html": [
       "<div>\n",
       "<style scoped>\n",
       "    .dataframe tbody tr th:only-of-type {\n",
       "        vertical-align: middle;\n",
       "    }\n",
       "\n",
       "    .dataframe tbody tr th {\n",
       "        vertical-align: top;\n",
       "    }\n",
       "\n",
       "    .dataframe thead th {\n",
       "        text-align: right;\n",
       "    }\n",
       "</style>\n",
       "<table border=\"1\" class=\"dataframe\">\n",
       "  <thead>\n",
       "    <tr style=\"text-align: right;\">\n",
       "      <th></th>\n",
       "      <th>first</th>\n",
       "      <th>last</th>\n",
       "      <th>email</th>\n",
       "    </tr>\n",
       "  </thead>\n",
       "  <tbody>\n",
       "    <tr>\n",
       "      <th>0</th>\n",
       "      <td>george</td>\n",
       "      <td>lamma</td>\n",
       "      <td>lamma@gmail.com</td>\n",
       "    </tr>\n",
       "    <tr>\n",
       "      <th>1</th>\n",
       "      <td>paul</td>\n",
       "      <td>christ</td>\n",
       "      <td>christ@gmail.com</td>\n",
       "    </tr>\n",
       "  </tbody>\n",
       "</table>\n",
       "</div>"
      ],
      "text/plain": [
       "    first    last             email\n",
       "0  george   lamma   lamma@gmail.com\n",
       "1    paul  christ  christ@gmail.com"
      ]
     },
     "execution_count": 28,
     "metadata": {},
     "output_type": "execute_result"
    }
   ],
   "source": [
    "df.loc[[0,1]]"
   ]
  },
  {
   "cell_type": "code",
   "execution_count": 29,
   "id": "2408facc",
   "metadata": {},
   "outputs": [
    {
     "data": {
      "text/html": [
       "<div>\n",
       "<style scoped>\n",
       "    .dataframe tbody tr th:only-of-type {\n",
       "        vertical-align: middle;\n",
       "    }\n",
       "\n",
       "    .dataframe tbody tr th {\n",
       "        vertical-align: top;\n",
       "    }\n",
       "\n",
       "    .dataframe thead th {\n",
       "        text-align: right;\n",
       "    }\n",
       "</style>\n",
       "<table border=\"1\" class=\"dataframe\">\n",
       "  <thead>\n",
       "    <tr style=\"text-align: right;\">\n",
       "      <th></th>\n",
       "      <th>email</th>\n",
       "    </tr>\n",
       "  </thead>\n",
       "  <tbody>\n",
       "    <tr>\n",
       "      <th>0</th>\n",
       "      <td>lamma@gmail.com</td>\n",
       "    </tr>\n",
       "    <tr>\n",
       "      <th>1</th>\n",
       "      <td>christ@gmail.com</td>\n",
       "    </tr>\n",
       "  </tbody>\n",
       "</table>\n",
       "</div>"
      ],
      "text/plain": [
       "              email\n",
       "0   lamma@gmail.com\n",
       "1  christ@gmail.com"
      ]
     },
     "execution_count": 29,
     "metadata": {},
     "output_type": "execute_result"
    }
   ],
   "source": [
    "df.loc[[0,1],['email']]"
   ]
  },
  {
   "cell_type": "code",
   "execution_count": 30,
   "id": "888eef5d",
   "metadata": {},
   "outputs": [
    {
     "data": {
      "text/html": [
       "<div>\n",
       "<style scoped>\n",
       "    .dataframe tbody tr th:only-of-type {\n",
       "        vertical-align: middle;\n",
       "    }\n",
       "\n",
       "    .dataframe tbody tr th {\n",
       "        vertical-align: top;\n",
       "    }\n",
       "\n",
       "    .dataframe thead th {\n",
       "        text-align: right;\n",
       "    }\n",
       "</style>\n",
       "<table border=\"1\" class=\"dataframe\">\n",
       "  <thead>\n",
       "    <tr style=\"text-align: right;\">\n",
       "      <th></th>\n",
       "      <th>email</th>\n",
       "      <th>first</th>\n",
       "    </tr>\n",
       "  </thead>\n",
       "  <tbody>\n",
       "    <tr>\n",
       "      <th>0</th>\n",
       "      <td>lamma@gmail.com</td>\n",
       "      <td>george</td>\n",
       "    </tr>\n",
       "    <tr>\n",
       "      <th>1</th>\n",
       "      <td>christ@gmail.com</td>\n",
       "      <td>paul</td>\n",
       "    </tr>\n",
       "  </tbody>\n",
       "</table>\n",
       "</div>"
      ],
      "text/plain": [
       "              email   first\n",
       "0   lamma@gmail.com  george\n",
       "1  christ@gmail.com    paul"
      ]
     },
     "execution_count": 30,
     "metadata": {},
     "output_type": "execute_result"
    }
   ],
   "source": [
    "df.loc[[0,1],['email','first']]"
   ]
  },
  {
   "cell_type": "code",
   "execution_count": 31,
   "id": "f11cbd1e",
   "metadata": {},
   "outputs": [],
   "source": [
    "df.set_index('email',inplace=True)  #setting email as index and if you not use inplace =true then there is no change "
   ]
  },
  {
   "cell_type": "code",
   "execution_count": 32,
   "id": "64039927",
   "metadata": {},
   "outputs": [
    {
     "data": {
      "text/html": [
       "<div>\n",
       "<style scoped>\n",
       "    .dataframe tbody tr th:only-of-type {\n",
       "        vertical-align: middle;\n",
       "    }\n",
       "\n",
       "    .dataframe tbody tr th {\n",
       "        vertical-align: top;\n",
       "    }\n",
       "\n",
       "    .dataframe thead th {\n",
       "        text-align: right;\n",
       "    }\n",
       "</style>\n",
       "<table border=\"1\" class=\"dataframe\">\n",
       "  <thead>\n",
       "    <tr style=\"text-align: right;\">\n",
       "      <th></th>\n",
       "      <th>first</th>\n",
       "      <th>last</th>\n",
       "    </tr>\n",
       "    <tr>\n",
       "      <th>email</th>\n",
       "      <th></th>\n",
       "      <th></th>\n",
       "    </tr>\n",
       "  </thead>\n",
       "  <tbody>\n",
       "    <tr>\n",
       "      <th>lamma@gmail.com</th>\n",
       "      <td>george</td>\n",
       "      <td>lamma</td>\n",
       "    </tr>\n",
       "    <tr>\n",
       "      <th>christ@gmail.com</th>\n",
       "      <td>paul</td>\n",
       "      <td>christ</td>\n",
       "    </tr>\n",
       "    <tr>\n",
       "      <th>lame@gmail.com</th>\n",
       "      <td>anna</td>\n",
       "      <td>lame</td>\n",
       "    </tr>\n",
       "    <tr>\n",
       "      <th>naka@gmail.com</th>\n",
       "      <td>avi</td>\n",
       "      <td>naka</td>\n",
       "    </tr>\n",
       "  </tbody>\n",
       "</table>\n",
       "</div>"
      ],
      "text/plain": [
       "                   first    last\n",
       "email                           \n",
       "lamma@gmail.com   george   lamma\n",
       "christ@gmail.com    paul  christ\n",
       "lame@gmail.com      anna    lame\n",
       "naka@gmail.com       avi    naka"
      ]
     },
     "execution_count": 32,
     "metadata": {},
     "output_type": "execute_result"
    }
   ],
   "source": [
    "df"
   ]
  },
  {
   "cell_type": "code",
   "execution_count": 33,
   "id": "2f3285dd",
   "metadata": {},
   "outputs": [
    {
     "data": {
      "text/plain": [
       "Index(['lamma@gmail.com', 'christ@gmail.com', 'lame@gmail.com',\n",
       "       'naka@gmail.com'],\n",
       "      dtype='object', name='email')"
      ]
     },
     "execution_count": 33,
     "metadata": {},
     "output_type": "execute_result"
    }
   ],
   "source": [
    "df.index"
   ]
  },
  {
   "cell_type": "code",
   "execution_count": 34,
   "id": "f6744574",
   "metadata": {},
   "outputs": [
    {
     "data": {
      "text/plain": [
       "first    george\n",
       "last      lamma\n",
       "Name: lamma@gmail.com, dtype: object"
      ]
     },
     "execution_count": 34,
     "metadata": {},
     "output_type": "execute_result"
    }
   ],
   "source": [
    "df.loc['lamma@gmail.com']"
   ]
  },
  {
   "cell_type": "code",
   "execution_count": 35,
   "id": "3373797c",
   "metadata": {},
   "outputs": [
    {
     "data": {
      "text/plain": [
       "'lamma'"
      ]
     },
     "execution_count": 35,
     "metadata": {},
     "output_type": "execute_result"
    }
   ],
   "source": [
    "df.loc['lamma@gmail.com','last']"
   ]
  },
  {
   "cell_type": "code",
   "execution_count": 36,
   "id": "2c399de6",
   "metadata": {},
   "outputs": [
    {
     "data": {
      "text/plain": [
       "first    george\n",
       "last      lamma\n",
       "Name: lamma@gmail.com, dtype: object"
      ]
     },
     "execution_count": 36,
     "metadata": {},
     "output_type": "execute_result"
    }
   ],
   "source": [
    "# df.loc[0] =>this gives error \n",
    "     #but\n",
    "df.iloc[0]    "
   ]
  },
  {
   "cell_type": "code",
   "execution_count": 37,
   "id": "e9977942",
   "metadata": {},
   "outputs": [],
   "source": [
    "df.reset_index(inplace=True)"
   ]
  },
  {
   "cell_type": "code",
   "execution_count": 38,
   "id": "e449ae9a",
   "metadata": {},
   "outputs": [
    {
     "data": {
      "text/html": [
       "<div>\n",
       "<style scoped>\n",
       "    .dataframe tbody tr th:only-of-type {\n",
       "        vertical-align: middle;\n",
       "    }\n",
       "\n",
       "    .dataframe tbody tr th {\n",
       "        vertical-align: top;\n",
       "    }\n",
       "\n",
       "    .dataframe thead th {\n",
       "        text-align: right;\n",
       "    }\n",
       "</style>\n",
       "<table border=\"1\" class=\"dataframe\">\n",
       "  <thead>\n",
       "    <tr style=\"text-align: right;\">\n",
       "      <th></th>\n",
       "      <th>email</th>\n",
       "      <th>first</th>\n",
       "      <th>last</th>\n",
       "    </tr>\n",
       "  </thead>\n",
       "  <tbody>\n",
       "    <tr>\n",
       "      <th>0</th>\n",
       "      <td>lamma@gmail.com</td>\n",
       "      <td>george</td>\n",
       "      <td>lamma</td>\n",
       "    </tr>\n",
       "    <tr>\n",
       "      <th>1</th>\n",
       "      <td>christ@gmail.com</td>\n",
       "      <td>paul</td>\n",
       "      <td>christ</td>\n",
       "    </tr>\n",
       "    <tr>\n",
       "      <th>2</th>\n",
       "      <td>lame@gmail.com</td>\n",
       "      <td>anna</td>\n",
       "      <td>lame</td>\n",
       "    </tr>\n",
       "    <tr>\n",
       "      <th>3</th>\n",
       "      <td>naka@gmail.com</td>\n",
       "      <td>avi</td>\n",
       "      <td>naka</td>\n",
       "    </tr>\n",
       "  </tbody>\n",
       "</table>\n",
       "</div>"
      ],
      "text/plain": [
       "              email   first    last\n",
       "0   lamma@gmail.com  george   lamma\n",
       "1  christ@gmail.com    paul  christ\n",
       "2    lame@gmail.com    anna    lame\n",
       "3    naka@gmail.com     avi    naka"
      ]
     },
     "execution_count": 38,
     "metadata": {},
     "output_type": "execute_result"
    }
   ],
   "source": [
    "df"
   ]
  },
  {
   "cell_type": "markdown",
   "id": "fd20d441",
   "metadata": {},
   "source": [
    "**Now Onwards Filtering"
   ]
  },
  {
   "cell_type": "code",
   "execution_count": 41,
   "id": "18578ca2",
   "metadata": {},
   "outputs": [],
   "source": [
    "name={\n",
    "    'first':['james','john','jonny'],\n",
    "    'last':['christ','dow','dow'],\n",
    "    'email':['jameschrist@email.com','johndow@gmail.com','jonnydow@gmail.com']\n",
    "}"
   ]
  },
  {
   "cell_type": "code",
   "execution_count": 42,
   "id": "8f1e4886",
   "metadata": {},
   "outputs": [],
   "source": [
    "var=pd.DataFrame(name)"
   ]
  },
  {
   "cell_type": "code",
   "execution_count": 43,
   "id": "7afdeefa",
   "metadata": {},
   "outputs": [
    {
     "data": {
      "text/html": [
       "<div>\n",
       "<style scoped>\n",
       "    .dataframe tbody tr th:only-of-type {\n",
       "        vertical-align: middle;\n",
       "    }\n",
       "\n",
       "    .dataframe tbody tr th {\n",
       "        vertical-align: top;\n",
       "    }\n",
       "\n",
       "    .dataframe thead th {\n",
       "        text-align: right;\n",
       "    }\n",
       "</style>\n",
       "<table border=\"1\" class=\"dataframe\">\n",
       "  <thead>\n",
       "    <tr style=\"text-align: right;\">\n",
       "      <th></th>\n",
       "      <th>first</th>\n",
       "      <th>last</th>\n",
       "      <th>email</th>\n",
       "    </tr>\n",
       "  </thead>\n",
       "  <tbody>\n",
       "    <tr>\n",
       "      <th>0</th>\n",
       "      <td>james</td>\n",
       "      <td>christ</td>\n",
       "      <td>jameschrist@email.com</td>\n",
       "    </tr>\n",
       "    <tr>\n",
       "      <th>1</th>\n",
       "      <td>john</td>\n",
       "      <td>dow</td>\n",
       "      <td>johndow@gmail.com</td>\n",
       "    </tr>\n",
       "    <tr>\n",
       "      <th>2</th>\n",
       "      <td>jonny</td>\n",
       "      <td>dow</td>\n",
       "      <td>jonnydow@gmail.com</td>\n",
       "    </tr>\n",
       "  </tbody>\n",
       "</table>\n",
       "</div>"
      ],
      "text/plain": [
       "   first    last                  email\n",
       "0  james  christ  jameschrist@email.com\n",
       "1   john     dow      johndow@gmail.com\n",
       "2  jonny     dow     jonnydow@gmail.com"
      ]
     },
     "execution_count": 43,
     "metadata": {},
     "output_type": "execute_result"
    }
   ],
   "source": [
    "var"
   ]
  },
  {
   "cell_type": "code",
   "execution_count": 46,
   "id": "09e43f48",
   "metadata": {},
   "outputs": [],
   "source": [
    "filt=(var['last']==\"dow\")"
   ]
  },
  {
   "cell_type": "code",
   "execution_count": 47,
   "id": "601c0810",
   "metadata": {},
   "outputs": [
    {
     "data": {
      "text/plain": [
       "0    False\n",
       "1     True\n",
       "2     True\n",
       "Name: last, dtype: bool"
      ]
     },
     "execution_count": 47,
     "metadata": {},
     "output_type": "execute_result"
    }
   ],
   "source": [
    "filt"
   ]
  },
  {
   "cell_type": "code",
   "execution_count": 49,
   "id": "353f9f23",
   "metadata": {},
   "outputs": [
    {
     "data": {
      "text/html": [
       "<div>\n",
       "<style scoped>\n",
       "    .dataframe tbody tr th:only-of-type {\n",
       "        vertical-align: middle;\n",
       "    }\n",
       "\n",
       "    .dataframe tbody tr th {\n",
       "        vertical-align: top;\n",
       "    }\n",
       "\n",
       "    .dataframe thead th {\n",
       "        text-align: right;\n",
       "    }\n",
       "</style>\n",
       "<table border=\"1\" class=\"dataframe\">\n",
       "  <thead>\n",
       "    <tr style=\"text-align: right;\">\n",
       "      <th></th>\n",
       "      <th>first</th>\n",
       "      <th>last</th>\n",
       "      <th>email</th>\n",
       "    </tr>\n",
       "  </thead>\n",
       "  <tbody>\n",
       "    <tr>\n",
       "      <th>1</th>\n",
       "      <td>john</td>\n",
       "      <td>dow</td>\n",
       "      <td>johndow@gmail.com</td>\n",
       "    </tr>\n",
       "    <tr>\n",
       "      <th>2</th>\n",
       "      <td>jonny</td>\n",
       "      <td>dow</td>\n",
       "      <td>jonnydow@gmail.com</td>\n",
       "    </tr>\n",
       "  </tbody>\n",
       "</table>\n",
       "</div>"
      ],
      "text/plain": [
       "   first last               email\n",
       "1   john  dow   johndow@gmail.com\n",
       "2  jonny  dow  jonnydow@gmail.com"
      ]
     },
     "execution_count": 49,
     "metadata": {},
     "output_type": "execute_result"
    }
   ],
   "source": [
    "var[filt]"
   ]
  },
  {
   "cell_type": "code",
   "execution_count": 50,
   "id": "d45b499c",
   "metadata": {},
   "outputs": [
    {
     "data": {
      "text/html": [
       "<div>\n",
       "<style scoped>\n",
       "    .dataframe tbody tr th:only-of-type {\n",
       "        vertical-align: middle;\n",
       "    }\n",
       "\n",
       "    .dataframe tbody tr th {\n",
       "        vertical-align: top;\n",
       "    }\n",
       "\n",
       "    .dataframe thead th {\n",
       "        text-align: right;\n",
       "    }\n",
       "</style>\n",
       "<table border=\"1\" class=\"dataframe\">\n",
       "  <thead>\n",
       "    <tr style=\"text-align: right;\">\n",
       "      <th></th>\n",
       "      <th>first</th>\n",
       "      <th>last</th>\n",
       "      <th>email</th>\n",
       "    </tr>\n",
       "  </thead>\n",
       "  <tbody>\n",
       "    <tr>\n",
       "      <th>1</th>\n",
       "      <td>john</td>\n",
       "      <td>dow</td>\n",
       "      <td>johndow@gmail.com</td>\n",
       "    </tr>\n",
       "    <tr>\n",
       "      <th>2</th>\n",
       "      <td>jonny</td>\n",
       "      <td>dow</td>\n",
       "      <td>jonnydow@gmail.com</td>\n",
       "    </tr>\n",
       "  </tbody>\n",
       "</table>\n",
       "</div>"
      ],
      "text/plain": [
       "   first last               email\n",
       "1   john  dow   johndow@gmail.com\n",
       "2  jonny  dow  jonnydow@gmail.com"
      ]
     },
     "execution_count": 50,
     "metadata": {},
     "output_type": "execute_result"
    }
   ],
   "source": [
    "var.loc[filt]"
   ]
  },
  {
   "cell_type": "markdown",
   "id": "cec48a43",
   "metadata": {},
   "source": [
    "in above you get same answer by passing the paramters in different way \n",
    "in pandas there is multiple way to get same answer"
   ]
  },
  {
   "cell_type": "code",
   "execution_count": 51,
   "id": "2345b9e7",
   "metadata": {},
   "outputs": [
    {
     "data": {
      "text/plain": [
       "1     johndow@gmail.com\n",
       "2    jonnydow@gmail.com\n",
       "Name: email, dtype: object"
      ]
     },
     "execution_count": 51,
     "metadata": {},
     "output_type": "execute_result"
    }
   ],
   "source": [
    " var.loc[filt,'email']"
   ]
  },
  {
   "cell_type": "code",
   "execution_count": 57,
   "id": "219d61b2",
   "metadata": {},
   "outputs": [
    {
     "data": {
      "text/html": [
       "<div>\n",
       "<style scoped>\n",
       "    .dataframe tbody tr th:only-of-type {\n",
       "        vertical-align: middle;\n",
       "    }\n",
       "\n",
       "    .dataframe tbody tr th {\n",
       "        vertical-align: top;\n",
       "    }\n",
       "\n",
       "    .dataframe thead th {\n",
       "        text-align: right;\n",
       "    }\n",
       "</style>\n",
       "<table border=\"1\" class=\"dataframe\">\n",
       "  <thead>\n",
       "    <tr style=\"text-align: right;\">\n",
       "      <th></th>\n",
       "      <th>first</th>\n",
       "      <th>last</th>\n",
       "      <th>email</th>\n",
       "    </tr>\n",
       "  </thead>\n",
       "  <tbody>\n",
       "    <tr>\n",
       "      <th>1</th>\n",
       "      <td>john</td>\n",
       "      <td>dow</td>\n",
       "      <td>johndow@gmail.com</td>\n",
       "    </tr>\n",
       "  </tbody>\n",
       "</table>\n",
       "</div>"
      ],
      "text/plain": [
       "  first last              email\n",
       "1  john  dow  johndow@gmail.com"
      ]
     },
     "execution_count": 57,
     "metadata": {},
     "output_type": "execute_result"
    }
   ],
   "source": [
    "filt=(var['last']==\"dow\") & (var['first']=='john')\n",
    "var.loc[filt]"
   ]
  },
  {
   "cell_type": "code",
   "execution_count": 59,
   "id": "1c86995f",
   "metadata": {},
   "outputs": [
    {
     "data": {
      "text/html": [
       "<div>\n",
       "<style scoped>\n",
       "    .dataframe tbody tr th:only-of-type {\n",
       "        vertical-align: middle;\n",
       "    }\n",
       "\n",
       "    .dataframe tbody tr th {\n",
       "        vertical-align: top;\n",
       "    }\n",
       "\n",
       "    .dataframe thead th {\n",
       "        text-align: right;\n",
       "    }\n",
       "</style>\n",
       "<table border=\"1\" class=\"dataframe\">\n",
       "  <thead>\n",
       "    <tr style=\"text-align: right;\">\n",
       "      <th></th>\n",
       "      <th>first</th>\n",
       "      <th>last</th>\n",
       "      <th>email</th>\n",
       "    </tr>\n",
       "  </thead>\n",
       "  <tbody>\n",
       "    <tr>\n",
       "      <th>0</th>\n",
       "      <td>james</td>\n",
       "      <td>christ</td>\n",
       "      <td>jameschrist@email.com</td>\n",
       "    </tr>\n",
       "    <tr>\n",
       "      <th>1</th>\n",
       "      <td>john</td>\n",
       "      <td>dow</td>\n",
       "      <td>johndow@gmail.com</td>\n",
       "    </tr>\n",
       "    <tr>\n",
       "      <th>2</th>\n",
       "      <td>jonny</td>\n",
       "      <td>dow</td>\n",
       "      <td>jonnydow@gmail.com</td>\n",
       "    </tr>\n",
       "  </tbody>\n",
       "</table>\n",
       "</div>"
      ],
      "text/plain": [
       "   first    last                  email\n",
       "0  james  christ  jameschrist@email.com\n",
       "1   john     dow      johndow@gmail.com\n",
       "2  jonny     dow     jonnydow@gmail.com"
      ]
     },
     "execution_count": 59,
     "metadata": {},
     "output_type": "execute_result"
    }
   ],
   "source": [
    "filt=(var['last']==\"dow\") | (var['first']=='james')\n",
    "var.loc[filt]"
   ]
  },
  {
   "cell_type": "code",
   "execution_count": null,
   "id": "56e69b9a",
   "metadata": {},
   "outputs": [],
   "source": []
  }
 ],
 "metadata": {
  "kernelspec": {
   "display_name": "Python 3 (ipykernel)",
   "language": "python",
   "name": "python3"
  },
  "language_info": {
   "codemirror_mode": {
    "name": "ipython",
    "version": 3
   },
   "file_extension": ".py",
   "mimetype": "text/x-python",
   "name": "python",
   "nbconvert_exporter": "python",
   "pygments_lexer": "ipython3",
   "version": "3.11.4"
  }
 },
 "nbformat": 4,
 "nbformat_minor": 5
}
